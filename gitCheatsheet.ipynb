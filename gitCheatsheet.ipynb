{
 "cells": [
  {
   "cell_type": "markdown",
   "metadata": {},
   "source": [
    "# Git Cheatsheet\n",
    "\n",
    "`git status`: Estado del repo.\n",
    "\n",
    "`git add {{ ARCHIVO }}`: Agregar cambios a commitear.\n",
    "\n",
    "`git commit -m \"{{ COMENTARIO }}\"`: Hacer commit.\n",
    "\n",
    "`git checkout {{ RAMA }}`: Cambiar de rama.\n",
    "\n",
    "`git checkoub -b {{ RAMA }}`: Crear rama e ir a rama.\n",
    "\n",
    "`git pull origin {{ RAMA }}`: Bajar cambios.\n",
    "\n",
    "`git push origin {{ RAMA }}`: Subir cambios.\n",
    "\n",
    "`git fetch --all`: Bajar ramas.\n"
   ]
  },
  {
   "cell_type": "code",
   "execution_count": null,
   "metadata": {},
   "outputs": [],
   "source": []
  },
  {
   "cell_type": "code",
   "execution_count": null,
   "metadata": {},
   "outputs": [],
   "source": []
  },
  {
   "cell_type": "code",
   "execution_count": null,
   "metadata": {},
   "outputs": [],
   "source": []
  }
 ],
 "metadata": {
  "kernelspec": {
   "display_name": "Python 3",
   "language": "python",
   "name": "python3"
  },
  "language_info": {
   "codemirror_mode": {
    "name": "ipython",
    "version": 3
   },
   "file_extension": ".py",
   "mimetype": "text/x-python",
   "name": "python",
   "nbconvert_exporter": "python",
   "pygments_lexer": "ipython3",
   "version": "3.6.7"
  }
 },
 "nbformat": 4,
 "nbformat_minor": 4
}
